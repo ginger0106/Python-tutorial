{
 "cells": [
  {
   "cell_type": "markdown",
   "metadata": {
    "slideshow": {
     "slide_type": "slide"
    }
   },
   "source": [
    " # “Life is short， you need Python”\n",
    " \n",
    "![Guido von Rossum](python.jpg)\n",
    "\n",
    "## 1. The zen of Python:"
   ]
  },
  {
   "cell_type": "code",
   "execution_count": null,
   "metadata": {
    "collapsed": true,
    "slideshow": {
     "slide_type": "slide"
    }
   },
   "outputs": [],
   "source": [
    "import this"
   ]
  },
  {
   "cell_type": "markdown",
   "metadata": {
    "slideshow": {
     "slide_type": "slide"
    }
   },
   "source": [
    "## 2. Trivia\n",
    "1. 1989年，作者为了打发圣诞假期进行了一次纯粹的hackiing行为，因而发明了Python。\n",
    "2. Python的命名是由BBC的“Monty Python's Flying Circus”节目而得，与蟒蛇没有什么关系。\n",
    "3. 许多大型网站就是用python编写的，（e.g. Youtube, Instagram, 豆瓣，知乎等）。\n",
    "4. 可以用来写脚本、做网站、科学计算、爬虫、数据挖掘、机器学习、深度学习...\n",
    "\n",
    "## 3. Cons & Pros\n",
    "### Pros\n",
    "1. 容易阅读——强制缩进，代码简洁\n",
    "2. 容易使用——交互式语言，解释型语言,高级数据结构\n",
    "3. 容易学习——高层次封装\n",
    "4. 容易记忆——语法简单\n",
    "...\n",
    "\n",
    "### Cons\n",
    "\n",
    "1. 性能比编译型语言差（e.g. C/C++）\n",
    "2. 程序序言不能加密\n",
    "...\n",
    "\n",
    "## 4. Installation & Versions\n",
    "### Installation \n",
    "因为Python是跨平台的，它可以运行在Windows、Mac和各种Linux/Unix系统上。在Windows上写Python程序，放到Linux上也是能够运行的。\n",
    "\n",
    "要开始学习Python编程，首先就得把Python安装到你的电脑里。安装后，你会得到Python解释器（就是负责运行Python程序的），一个命令行交互环境，还有一个简单的集成开发环境。\n",
    "\n",
    "### Versions\n",
    "目前，Python有两个版本，一个是2.x版，一个是3.x版，这两个版本是不兼容的。但是目前3.x版本越来越普及，**所以建议新手入门直接从3.x版本开始学习**。\n",
    "\n",
    "然而，目前还有许多应用是基于2.x版本开发的，因此很多情况下，我们需要在单机上同时安装2.x和3.x版本，因此需要管理多版本的虚拟环境，那么强烈建议大家使用下面的工具：\n",
    "\n",
    "\n",
    "## 5. Recommended Tools\n",
    "### 5.1. Anaconda\n",
    "Anaconda是一个用于科学计算的Python发行版，支持 Linux, Mac, Windows系统，提供了包管理与环境管理的功能，可以很方便地解决多版本python并存、切换以及各种第三方包安装问题。Anaconda利用工具/命令conda来进行package和environment的管理，并且已经包含了Python和相关的配套工具。"
   ]
  },
  {
   "cell_type": "markdown",
   "metadata": {
    "slideshow": {
     "slide_type": "fragment"
    }
   },
   "source": [
    "#### conda的环境管理"
   ]
  },
  {
   "cell_type": "code",
   "execution_count": null,
   "metadata": {
    "collapsed": true,
    "slideshow": {
     "slide_type": "slide"
    }
   },
   "outputs": [],
   "source": [
    "# 创建一个名为python34的环境，指定Python版本是3.4（不用管是3.4.x，conda会为我们自动寻找3.4.x中的最新版本）\n",
    "conda create --name python34 python=3.4\n",
    "\n",
    "# 安装好后，使用activate激活某个环境\n",
    "activate python34 # for Windows\n",
    "source activate python34 # for Linux & Mac\n",
    "# 激活后，会发现terminal输入的地方多了python34的字样，实际上，此时系统做的事情就是把默认2.7环境从PATH中去除，再把3.4对应的命令加入PATH\n",
    "\n",
    "# 此时，再次输入\n",
    "python --version\n",
    "# 可以得到`Python 3.4.5 :: Anaconda 4.1.1 (64-bit)`，即系统已经切换到了3.4的环境\n",
    "\n",
    "# 如果想返回默认的python 2.7环境，运行\n",
    "deactivate python34 # for Windows\n",
    "source deactivate python34 # for Linux & Mac\n",
    "\n",
    "# 删除一个已有的环境\n",
    "conda remove --name python34 --all"
   ]
  },
  {
   "cell_type": "markdown",
   "metadata": {
    "slideshow": {
     "slide_type": "slide"
    }
   },
   "source": [
    "#### conda的包管理功能"
   ]
  },
  {
   "cell_type": "code",
   "execution_count": null,
   "metadata": {
    "collapsed": true,
    "slideshow": {
     "slide_type": "slide"
    }
   },
   "outputs": [],
   "source": [
    "# 安装scipy\n",
    "conda install scipy\n",
    "# conda会从从远程搜索scipy的相关信息和依赖项目，对于python 3.4，conda会同时安装numpy和mkl（运算加速的库）\n",
    " \n",
    "# 查看已经安装的packages\n",
    "conda list\n",
    "# 最新版的conda是从site-packages文件夹中搜索已经安装的包，不依赖于pip，因此可以显示出通过各种方式安装的包"
   ]
  },
  {
   "cell_type": "markdown",
   "metadata": {
    "slideshow": {
     "slide_type": "subslide"
    }
   },
   "source": [
    "### 5.2. Jupyter\n",
    "Jupyter Notebook 的本质是一个 Web 应用程序，便于创建和共享文学化程序文档，支持实时代码，数学方程，可视化和 markdown。 用途包括：数据清理和转换，数值模拟，统计建模，机器学习等等。\n",
    "\n",
    "所以，为什么要用notebook呢？其实就是这几点\n",
    "- 适合数据分析的 处理-计算-分析的过程，不需要额外写报告\n",
    "- Python带来的丰富的第三方包支持\n",
    "- 不需要自己再重复造轮子正在逐步丰富的功能，比如多个cell的剪切/粘贴，PPT放映, cell tag ...\n",
    "\n",
    "ps：数据挖掘领域中最热门的比赛 Kaggle 里的资料都是Jupyter 格式 。\n",
    "\n",
    "\n",
    "\n",
    "## 6.Pythonic\n",
    "只可意会不可言传？NO!\n",
    "![](example.jpg)\n",
    "\n",
    "#### 1. 交换两个变量值 \n",
    "\n",
    "在其他语言:"
   ]
  },
  {
   "cell_type": "code",
   "execution_count": null,
   "metadata": {
    "collapsed": true,
    "slideshow": {
     "slide_type": "slide"
    }
   },
   "outputs": [],
   "source": [
    "a = 1\n",
    "b = 9\n",
    "t = 0\n",
    "\n",
    "t = a \n",
    "a = b\n",
    "b = t\n",
    "\n",
    "a,b"
   ]
  },
  {
   "cell_type": "markdown",
   "metadata": {},
   "source": [
    "pythonic:"
   ]
  },
  {
   "cell_type": "code",
   "execution_count": null,
   "metadata": {
    "collapsed": true
   },
   "outputs": [],
   "source": [
    "a, b = b, a\n",
    "\n",
    "a,b"
   ]
  },
  {
   "cell_type": "markdown",
   "metadata": {},
   "source": [
    "#### 2. 循环\n",
    "在其他语言："
   ]
  },
  {
   "cell_type": "code",
   "execution_count": null,
   "metadata": {
    "collapsed": true
   },
   "outputs": [],
   "source": [
    "for (i = 0; i < mylist_length; i++) {\n",
    "   do_something(mylist[i]);\n",
    "}"
   ]
  },
  {
   "cell_type": "markdown",
   "metadata": {},
   "source": [
    "pythonic:\n",
    "\n",
    "element 不用事先定义，mylist只要是可迭代对象即可"
   ]
  },
  {
   "cell_type": "code",
   "execution_count": null,
   "metadata": {
    "collapsed": true
   },
   "outputs": [],
   "source": [
    "for element in mylist:\n",
    "   do_something(element)"
   ]
  },
  {
   "cell_type": "code",
   "execution_count": null,
   "metadata": {},
   "outputs": [],
   "source": [
    "list1 = [\"这\", \"是\", \"一个\", \"测试\"]\n",
    "for i in range (len(list1)):\n",
    "    print (i ,list1[i])"
   ]
  },
  {
   "cell_type": "code",
   "execution_count": null,
   "metadata": {},
   "outputs": [],
   "source": [
    "list1 = [\"这\", \"是\", \"一个\", \"测试\"]\n",
    "for index, item in enumerate(list1):\n",
    "    print (index, item)"
   ]
  },
  {
   "cell_type": "markdown",
   "metadata": {},
   "source": [
    "#### 3. 列表生成式\n",
    "要生成30-40之间的所有偶数的平方 \n",
    "\n",
    "在其他语言："
   ]
  },
  {
   "cell_type": "code",
   "execution_count": null,
   "metadata": {
    "collapsed": true
   },
   "outputs": [],
   "source": [
    "L = []\n",
    "for x in range(30,41):\n",
    "    if x%2 ==0:\n",
    "        L.append(x*x)\n",
    "L"
   ]
  },
  {
   "cell_type": "markdown",
   "metadata": {},
   "source": [
    "pythonic:"
   ]
  },
  {
   "cell_type": "code",
   "execution_count": null,
   "metadata": {
    "collapsed": true
   },
   "outputs": [],
   "source": [
    "[ i*i for i in range(30, 41) if i% 2 == 0 ]"
   ]
  },
  {
   "cell_type": "code",
   "execution_count": null,
   "metadata": {
    "collapsed": true
   },
   "outputs": [],
   "source": [
    "list(map(lambda x:x*x, range(30,41,2)))"
   ]
  },
  {
   "cell_type": "markdown",
   "metadata": {},
   "source": [
    "#### 4. 改变函数的参数\n",
    "在其他语言："
   ]
  },
  {
   "cell_type": "code",
   "execution_count": null,
   "metadata": {
    "collapsed": true
   },
   "outputs": [],
   "source": [
    "void foo(int* a, float* b) {\n",
    "    *a = 3;\n",
    "    *b = 5.5;\n",
    "}\n",
    "\n",
    "...\n",
    "int alpha;\n",
    "int beta;\n",
    "foo(&alpha, &beta);"
   ]
  },
  {
   "cell_type": "markdown",
   "metadata": {},
   "source": [
    "pythonic:"
   ]
  },
  {
   "cell_type": "code",
   "execution_count": null,
   "metadata": {
    "collapsed": true
   },
   "outputs": [],
   "source": [
    "def foo():\n",
    "    return 3, 5.5\n",
    "\n",
    "alpha, beta = foo()\n",
    "alpha,beta"
   ]
  },
  {
   "cell_type": "markdown",
   "metadata": {},
   "source": [
    "## 7.Third Party Packages\n",
    "### 7.1. Numpy & Pandas...\n",
    "- NumPy：N维数组容器\n",
    "- Pandas：表格容器\n",
    "- Keras：基于Python的深度学习库\n",
    "- scikit-learn：机器学习库\n",
    "\n",
    "\n",
    "\n",
    "### 7.2. Matplotlib & [Seaborn](http://seaborn.pydata.org/examples/index.html)"
   ]
  },
  {
   "cell_type": "code",
   "execution_count": null,
   "metadata": {
    "collapsed": true
   },
   "outputs": [],
   "source": [
    "# Render our plots inline\n",
    "#%matplotlib inline\n",
    "\"\"\"\n",
    "Annotated heatmaps\n",
    "==================\n",
    "\"\"\"\n",
    "import matplotlib.pyplot as plt\n",
    "import seaborn as sns\n",
    "sns.set()\n",
    "\n",
    "# Load the example flights dataset and conver to long-form\n",
    "flights_long = sns.load_dataset(\"flights\")\n",
    "flights = flights_long.pivot(\"month\", \"year\", \"passengers\")\n",
    "\n",
    "# Draw a heatmap with the numeric values in each cell\n",
    "f, ax = plt.subplots(figsize=(9, 6))\n",
    "sns.heatmap(flights, annot=True, fmt=\"d\", linewidths=.5, ax=ax)\n",
    "plt.show()"
   ]
  },
  {
   "cell_type": "markdown",
   "metadata": {},
   "source": [
    "## 8. Python与最优化\n",
    "- SciPy：科学计算函数库 https://docs.scipy.org/doc/scipy/reference/tutorial/optimize.html\n",
    "\n",
    "scipy.optimization子模块提供了函数最小值(标量或多维)、曲线拟合和寻找等式的根的有用算法。\n"
   ]
  },
  {
   "cell_type": "code",
   "execution_count": null,
   "metadata": {},
   "outputs": [],
   "source": [
    "import numpy as np\n",
    "import matplotlib.pyplot as plt\n",
    "#from scipy import optimize\n",
    "import scipy\n",
    "\n",
    "def f(x):\n",
    "    return x**2 + 10*np.sin(x)\n",
    "\n",
    "x = np.arange(-10, 10, 0.1)\n",
    "plt.plot(x, f(x)) \n",
    "plt.show() "
   ]
  },
  {
   "cell_type": "code",
   "execution_count": null,
   "metadata": {},
   "outputs": [],
   "source": [
    "#result = optimize.minimize(f, x0=8,method=\"L-BFGS-B\")\n",
    "result = optimize.basinhopping(f,0) \n",
    "plt.plot(x, f(x)) \n",
    "plt.scatter(result.x,f(result.x),c='r')\n",
    "plt.show()\n"
   ]
  },
  {
   "cell_type": "markdown",
   "metadata": {},
   "source": [
    "## 9. Introductory Materials\n",
    "1. awesome python https://github.com/jobbole/awesome-python-cn\n",
    "2. Python Enhancement Proposal 8 https://www.python.org/dev/peps/pep-0008/\n",
    "3. 廖雪峰python https://www.liaoxuefeng.com/wiki/0014316089557264a6b348958f449949df42a6d3a2e542c000\n",
    "4. 凸优化包 https://www.zhihu.com/question/59378236\n",
    "5. scipy notes http://www.scipy-lectures.org/ "
   ]
  },
  {
   "cell_type": "markdown",
   "metadata": {},
   "source": [
    "## 10. Reference\n",
    "- https://www.zhihu.com/question/20244565 \n",
    "- http://python.jobbole.com/86236/http://wuzhiwei.net/be_pythonic/"
   ]
  }
 ],
 "metadata": {
  "kernelspec": {
   "display_name": "Python 3",
   "language": "python",
   "name": "python3"
  },
  "language_info": {
   "codemirror_mode": {
    "name": "ipython",
    "version": 3
   },
   "file_extension": ".py",
   "mimetype": "text/x-python",
   "name": "python",
   "nbconvert_exporter": "python",
   "pygments_lexer": "ipython3",
   "version": "3.6.2"
  }
 },
 "nbformat": 4,
 "nbformat_minor": 2
}
